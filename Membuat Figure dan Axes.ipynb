{
 "cells": [
  {
   "cell_type": "code",
   "execution_count": 1,
   "id": "d7789cdd",
   "metadata": {},
   "outputs": [
    {
     "name": "stdout",
     "output_type": "stream",
     "text": [
      "Using matplotlib backend: Qt5Agg\n"
     ]
    }
   ],
   "source": [
    "%matplotlib"
   ]
  },
  {
   "cell_type": "code",
   "execution_count": 6,
   "id": "3a3d7733",
   "metadata": {},
   "outputs": [],
   "source": [
    "import matplotlib.pyplot as plt\n",
    "import numpy as np"
   ]
  },
  {
   "cell_type": "code",
   "execution_count": 7,
   "id": "817e9239",
   "metadata": {},
   "outputs": [],
   "source": [
    "fig = plt.figure() # figure tanpa axes"
   ]
  },
  {
   "cell_type": "code",
   "execution_count": 8,
   "id": "516ec898",
   "metadata": {},
   "outputs": [],
   "source": [
    "fig, ax = plt.subplots() # sebuah figure dengan sebuah axes"
   ]
  },
  {
   "cell_type": "code",
   "execution_count": 9,
   "id": "4788b447",
   "metadata": {},
   "outputs": [],
   "source": [
    "fig, axs = plt.subplots(2, 3) # sebuah figure dengan 2x3 grid axes"
   ]
  },
  {
   "cell_type": "code",
   "execution_count": null,
   "id": "7a9f70ba",
   "metadata": {},
   "outputs": [],
   "source": []
  }
 ],
 "metadata": {
  "kernelspec": {
   "display_name": "Python 3 (ipykernel)",
   "language": "python",
   "name": "python3"
  },
  "language_info": {
   "codemirror_mode": {
    "name": "ipython",
    "version": 3
   },
   "file_extension": ".py",
   "mimetype": "text/x-python",
   "name": "python",
   "nbconvert_exporter": "python",
   "pygments_lexer": "ipython3",
   "version": "3.9.7"
  }
 },
 "nbformat": 4,
 "nbformat_minor": 5
}
